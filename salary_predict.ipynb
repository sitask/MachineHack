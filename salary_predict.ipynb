{
 "cells": [
  {
   "cell_type": "code",
   "execution_count": 221,
   "metadata": {},
   "outputs": [],
   "source": [
    "%matplotlib inline\n",
    "from matplotlib import pyplot as plt\n",
    "import seaborn as sns; sns.set(style='white')\n",
    "import numpy as np\n",
    "import pandas as pd\n",
    "from sklearn.model_selection import train_test_split\n",
    "from sklearn.ensemble import RandomForestClassifier\n",
    "from sklearn.preprocessing import OneHotEncoder, LabelEncoder, LabelBinarizer\n",
    "from lightgbm import LGBMClassifier\n",
    "from xgboost import XGBClassifier\n",
    "from sklearn.linear_model import LogisticRegression\n",
    "from sklearn.tree import DecisionTreeClassifier\n",
    "from sklearn.metrics import roc_auc_score, accuracy_score"
   ]
  },
  {
   "cell_type": "code",
   "execution_count": 222,
   "metadata": {},
   "outputs": [],
   "source": [
    "train_df = pd.read_csv('Final_Train_Dataset.csv')\n",
    "test_df = pd.read_csv('Final_Test_Dataset.csv')"
   ]
  },
  {
   "cell_type": "code",
   "execution_count": 223,
   "metadata": {},
   "outputs": [
    {
     "data": {
      "text/plain": [
       "(19802, 9)"
      ]
     },
     "execution_count": 223,
     "metadata": {},
     "output_type": "execute_result"
    }
   ],
   "source": [
    "train_df.shape"
   ]
  },
  {
   "cell_type": "code",
   "execution_count": 224,
   "metadata": {},
   "outputs": [
    {
     "name": "stdout",
     "output_type": "stream",
     "text": [
      "<class 'pandas.core.frame.DataFrame'>\n",
      "RangeIndex: 19802 entries, 0 to 19801\n",
      "Data columns (total 9 columns):\n",
      "Unnamed: 0              19802 non-null int64\n",
      "experience              19802 non-null object\n",
      "job_description         15384 non-null object\n",
      "job_desig               19802 non-null object\n",
      "job_type                4797 non-null object\n",
      "key_skills              19801 non-null object\n",
      "location                19802 non-null object\n",
      "salary                  19802 non-null object\n",
      "company_name_encoded    19802 non-null int64\n",
      "dtypes: int64(2), object(7)\n",
      "memory usage: 1.4+ MB\n"
     ]
    }
   ],
   "source": [
    "train_df.info()"
   ]
  },
  {
   "cell_type": "code",
   "execution_count": 225,
   "metadata": {},
   "outputs": [
    {
     "data": {
      "text/html": [
       "<div>\n",
       "<style scoped>\n",
       "    .dataframe tbody tr th:only-of-type {\n",
       "        vertical-align: middle;\n",
       "    }\n",
       "\n",
       "    .dataframe tbody tr th {\n",
       "        vertical-align: top;\n",
       "    }\n",
       "\n",
       "    .dataframe thead th {\n",
       "        text-align: right;\n",
       "    }\n",
       "</style>\n",
       "<table border=\"1\" class=\"dataframe\">\n",
       "  <thead>\n",
       "    <tr style=\"text-align: right;\">\n",
       "      <th></th>\n",
       "      <th>Unnamed: 0</th>\n",
       "      <th>experience</th>\n",
       "      <th>job_description</th>\n",
       "      <th>job_desig</th>\n",
       "      <th>job_type</th>\n",
       "      <th>key_skills</th>\n",
       "      <th>location</th>\n",
       "      <th>salary</th>\n",
       "      <th>company_name_encoded</th>\n",
       "    </tr>\n",
       "  </thead>\n",
       "  <tbody>\n",
       "    <tr>\n",
       "      <th>19797</th>\n",
       "      <td>19797</td>\n",
       "      <td>12-18 yrs</td>\n",
       "      <td>NaN</td>\n",
       "      <td>Director, Medical Coding Training</td>\n",
       "      <td>NaN</td>\n",
       "      <td>Medical Coding, ICD - 10, US Healthcare, RCM, ...</td>\n",
       "      <td>Hyderabad</td>\n",
       "      <td>15to25</td>\n",
       "      <td>2245</td>\n",
       "    </tr>\n",
       "    <tr>\n",
       "      <th>19798</th>\n",
       "      <td>19798</td>\n",
       "      <td>0-3 yrs</td>\n",
       "      <td>NaN</td>\n",
       "      <td>Looking For Freshers WHO WANT To Work WITH US</td>\n",
       "      <td>NaN</td>\n",
       "      <td>offline, online, part time, home base, work fr...</td>\n",
       "      <td>Mumbai, Bengaluru, Chennai, Hyderabad, Dehradu...</td>\n",
       "      <td>0to3</td>\n",
       "      <td>4966</td>\n",
       "    </tr>\n",
       "    <tr>\n",
       "      <th>19799</th>\n",
       "      <td>19799</td>\n",
       "      <td>8-13 yrs</td>\n",
       "      <td>Annuities Domain experience is mandatory;Work ...</td>\n",
       "      <td>PM- C#/ .Net ( Annuity/ Insurance Domain)</td>\n",
       "      <td>NaN</td>\n",
       "      <td>SQL Server, VB.NET, C#, .Net, C#.Net, Oracle S...</td>\n",
       "      <td>Hyderabad</td>\n",
       "      <td>15to25</td>\n",
       "      <td>4272</td>\n",
       "    </tr>\n",
       "    <tr>\n",
       "      <th>19800</th>\n",
       "      <td>19800</td>\n",
       "      <td>1-3 yrs</td>\n",
       "      <td>- By plugging into our market-leading global n...</td>\n",
       "      <td>Consultant - Internal Audit</td>\n",
       "      <td>NaN</td>\n",
       "      <td>accounting, internal audit, auditing, risk adv...</td>\n",
       "      <td>Pune</td>\n",
       "      <td>10to15</td>\n",
       "      <td>1793</td>\n",
       "    </tr>\n",
       "    <tr>\n",
       "      <th>19801</th>\n",
       "      <td>19801</td>\n",
       "      <td>2-5 yrs</td>\n",
       "      <td>- 3-5 years experience with the end to end pro...</td>\n",
       "      <td>Unity 3D Developer - Mobile Games Development</td>\n",
       "      <td>NaN</td>\n",
       "      <td>IOS, XCode, Apple, Version Control, Perforce, ...</td>\n",
       "      <td>Hyderabad</td>\n",
       "      <td>10to15</td>\n",
       "      <td>1349</td>\n",
       "    </tr>\n",
       "  </tbody>\n",
       "</table>\n",
       "</div>"
      ],
      "text/plain": [
       "       Unnamed: 0 experience  \\\n",
       "19797       19797  12-18 yrs   \n",
       "19798       19798    0-3 yrs   \n",
       "19799       19799   8-13 yrs   \n",
       "19800       19800    1-3 yrs   \n",
       "19801       19801    2-5 yrs   \n",
       "\n",
       "                                         job_description  \\\n",
       "19797                                                NaN   \n",
       "19798                                                NaN   \n",
       "19799  Annuities Domain experience is mandatory;Work ...   \n",
       "19800  - By plugging into our market-leading global n...   \n",
       "19801  - 3-5 years experience with the end to end pro...   \n",
       "\n",
       "                                           job_desig job_type  \\\n",
       "19797              Director, Medical Coding Training      NaN   \n",
       "19798  Looking For Freshers WHO WANT To Work WITH US      NaN   \n",
       "19799      PM- C#/ .Net ( Annuity/ Insurance Domain)      NaN   \n",
       "19800                    Consultant - Internal Audit      NaN   \n",
       "19801  Unity 3D Developer - Mobile Games Development      NaN   \n",
       "\n",
       "                                              key_skills  \\\n",
       "19797  Medical Coding, ICD - 10, US Healthcare, RCM, ...   \n",
       "19798  offline, online, part time, home base, work fr...   \n",
       "19799  SQL Server, VB.NET, C#, .Net, C#.Net, Oracle S...   \n",
       "19800  accounting, internal audit, auditing, risk adv...   \n",
       "19801  IOS, XCode, Apple, Version Control, Perforce, ...   \n",
       "\n",
       "                                                location  salary  \\\n",
       "19797                                          Hyderabad  15to25   \n",
       "19798  Mumbai, Bengaluru, Chennai, Hyderabad, Dehradu...    0to3   \n",
       "19799                                          Hyderabad  15to25   \n",
       "19800                                               Pune  10to15   \n",
       "19801                                          Hyderabad  10to15   \n",
       "\n",
       "       company_name_encoded  \n",
       "19797                  2245  \n",
       "19798                  4966  \n",
       "19799                  4272  \n",
       "19800                  1793  \n",
       "19801                  1349  "
      ]
     },
     "execution_count": 225,
     "metadata": {},
     "output_type": "execute_result"
    }
   ],
   "source": [
    "train_df.tail()"
   ]
  },
  {
   "cell_type": "code",
   "execution_count": 226,
   "metadata": {},
   "outputs": [
    {
     "data": {
      "text/plain": [
       "10to15    4500\n",
       "15to25    4125\n",
       "6to10     3533\n",
       "0to3      3245\n",
       "3to6      2824\n",
       "25to50    1575\n",
       "Name: salary, dtype: int64"
      ]
     },
     "execution_count": 226,
     "metadata": {},
     "output_type": "execute_result"
    }
   ],
   "source": [
    "train_df['salary'].value_counts()"
   ]
  },
  {
   "cell_type": "code",
   "execution_count": 227,
   "metadata": {},
   "outputs": [],
   "source": [
    "train_df['exp'] = train_df['experience'].str.rstrip('yrs')\n",
    "train_df['min_exp'] = train_df['exp'].str.split('-').str[0].astype(int)\n",
    "train_df['max_exp'] = train_df['exp'].str.split('-').str[1].astype(int)\n",
    "train_df['avg_exp'] = train_df['min_exp'] + train_df['max_exp']/2"
   ]
  },
  {
   "cell_type": "code",
   "execution_count": 228,
   "metadata": {},
   "outputs": [],
   "source": [
    "train_df['skill1'] = train_df['key_skills'].str.split(',').str[0]\n",
    "#train_df['skill2'] = train_df['key_skills'].str.split(',').str[1]\n",
    "#train_df['skill3'] = train_df['key_skills'].str.split(',').str[2]\n",
    "#train_df['skill4'] = train_df['key_skills'].str.split(',').str[3]\n",
    "#train_df['skill5'] = train_df['key_skills'].str.split(',').str[4]"
   ]
  },
  {
   "cell_type": "code",
   "execution_count": 229,
   "metadata": {},
   "outputs": [
    {
     "data": {
      "text/html": [
       "<div>\n",
       "<style scoped>\n",
       "    .dataframe tbody tr th:only-of-type {\n",
       "        vertical-align: middle;\n",
       "    }\n",
       "\n",
       "    .dataframe tbody tr th {\n",
       "        vertical-align: top;\n",
       "    }\n",
       "\n",
       "    .dataframe thead th {\n",
       "        text-align: right;\n",
       "    }\n",
       "</style>\n",
       "<table border=\"1\" class=\"dataframe\">\n",
       "  <thead>\n",
       "    <tr style=\"text-align: right;\">\n",
       "      <th></th>\n",
       "      <th>Unnamed: 0</th>\n",
       "      <th>experience</th>\n",
       "      <th>job_description</th>\n",
       "      <th>job_desig</th>\n",
       "      <th>job_type</th>\n",
       "      <th>key_skills</th>\n",
       "      <th>location</th>\n",
       "      <th>salary</th>\n",
       "      <th>company_name_encoded</th>\n",
       "      <th>exp</th>\n",
       "      <th>min_exp</th>\n",
       "      <th>max_exp</th>\n",
       "      <th>avg_exp</th>\n",
       "      <th>skill1</th>\n",
       "    </tr>\n",
       "  </thead>\n",
       "  <tbody>\n",
       "    <tr>\n",
       "      <th>0</th>\n",
       "      <td>0</td>\n",
       "      <td>5-7 yrs</td>\n",
       "      <td>Exp: Minimum 5 years;Good understanding of IOC...</td>\n",
       "      <td>Senior Exploit and Vulnerability Researcher</td>\n",
       "      <td>NaN</td>\n",
       "      <td>team skills, communication skills, analytical ...</td>\n",
       "      <td>Delhi NCR(Vikas Puri)</td>\n",
       "      <td>6to10</td>\n",
       "      <td>3687</td>\n",
       "      <td>5-7</td>\n",
       "      <td>5</td>\n",
       "      <td>7</td>\n",
       "      <td>8.5</td>\n",
       "      <td>team skills</td>\n",
       "    </tr>\n",
       "    <tr>\n",
       "      <th>1</th>\n",
       "      <td>1</td>\n",
       "      <td>10-17 yrs</td>\n",
       "      <td>He should have handled a team of atleast 5-6 d...</td>\n",
       "      <td>Head SCM</td>\n",
       "      <td>NaN</td>\n",
       "      <td>ppc, logistics, inventory management, supply c...</td>\n",
       "      <td>Sonepat</td>\n",
       "      <td>10to15</td>\n",
       "      <td>458</td>\n",
       "      <td>10-17</td>\n",
       "      <td>10</td>\n",
       "      <td>17</td>\n",
       "      <td>18.5</td>\n",
       "      <td>ppc</td>\n",
       "    </tr>\n",
       "    <tr>\n",
       "      <th>2</th>\n",
       "      <td>2</td>\n",
       "      <td>5-9 yrs</td>\n",
       "      <td>Must be an effective communicator (written &amp; s...</td>\n",
       "      <td>Deputy Manager - Talent Management &amp; Leadershi...</td>\n",
       "      <td>Analytics</td>\n",
       "      <td>HR Analytics, Employee Engagement, Training, S...</td>\n",
       "      <td>Delhi NCR</td>\n",
       "      <td>15to25</td>\n",
       "      <td>4195</td>\n",
       "      <td>5-9</td>\n",
       "      <td>5</td>\n",
       "      <td>9</td>\n",
       "      <td>9.5</td>\n",
       "      <td>HR Analytics</td>\n",
       "    </tr>\n",
       "    <tr>\n",
       "      <th>3</th>\n",
       "      <td>3</td>\n",
       "      <td>7-10 yrs</td>\n",
       "      <td>7  -  10 years of overall experience in data e...</td>\n",
       "      <td>Associate Manager Data Engineering</td>\n",
       "      <td>Analytics</td>\n",
       "      <td>SQL, Javascript, Automation, Python, Ruby, Ana...</td>\n",
       "      <td>Bengaluru</td>\n",
       "      <td>10to15</td>\n",
       "      <td>313</td>\n",
       "      <td>7-10</td>\n",
       "      <td>7</td>\n",
       "      <td>10</td>\n",
       "      <td>12.0</td>\n",
       "      <td>SQL</td>\n",
       "    </tr>\n",
       "    <tr>\n",
       "      <th>4</th>\n",
       "      <td>4</td>\n",
       "      <td>1-3 yrs</td>\n",
       "      <td>Chartered Accountancy degree or MBA in Finance...</td>\n",
       "      <td>TS- GSA- Senior Analyst</td>\n",
       "      <td>NaN</td>\n",
       "      <td>accounting, finance, cash flow, financial plan...</td>\n",
       "      <td>Gurgaon</td>\n",
       "      <td>3to6</td>\n",
       "      <td>1305</td>\n",
       "      <td>1-3</td>\n",
       "      <td>1</td>\n",
       "      <td>3</td>\n",
       "      <td>2.5</td>\n",
       "      <td>accounting</td>\n",
       "    </tr>\n",
       "  </tbody>\n",
       "</table>\n",
       "</div>"
      ],
      "text/plain": [
       "   Unnamed: 0 experience                                    job_description  \\\n",
       "0           0    5-7 yrs  Exp: Minimum 5 years;Good understanding of IOC...   \n",
       "1           1  10-17 yrs  He should have handled a team of atleast 5-6 d...   \n",
       "2           2    5-9 yrs  Must be an effective communicator (written & s...   \n",
       "3           3   7-10 yrs  7  -  10 years of overall experience in data e...   \n",
       "4           4    1-3 yrs  Chartered Accountancy degree or MBA in Finance...   \n",
       "\n",
       "                                           job_desig   job_type  \\\n",
       "0        Senior Exploit and Vulnerability Researcher        NaN   \n",
       "1                                           Head SCM        NaN   \n",
       "2  Deputy Manager - Talent Management & Leadershi...  Analytics   \n",
       "3                 Associate Manager Data Engineering  Analytics   \n",
       "4                            TS- GSA- Senior Analyst        NaN   \n",
       "\n",
       "                                          key_skills               location  \\\n",
       "0  team skills, communication skills, analytical ...  Delhi NCR(Vikas Puri)   \n",
       "1  ppc, logistics, inventory management, supply c...                Sonepat   \n",
       "2  HR Analytics, Employee Engagement, Training, S...              Delhi NCR   \n",
       "3  SQL, Javascript, Automation, Python, Ruby, Ana...              Bengaluru   \n",
       "4  accounting, finance, cash flow, financial plan...                Gurgaon   \n",
       "\n",
       "   salary  company_name_encoded     exp  min_exp  max_exp  avg_exp  \\\n",
       "0   6to10                  3687    5-7         5        7      8.5   \n",
       "1  10to15                   458  10-17        10       17     18.5   \n",
       "2  15to25                  4195    5-9         5        9      9.5   \n",
       "3  10to15                   313   7-10         7       10     12.0   \n",
       "4    3to6                  1305    1-3         1        3      2.5   \n",
       "\n",
       "         skill1  \n",
       "0   team skills  \n",
       "1           ppc  \n",
       "2  HR Analytics  \n",
       "3           SQL  \n",
       "4    accounting  "
      ]
     },
     "execution_count": 229,
     "metadata": {},
     "output_type": "execute_result"
    }
   ],
   "source": [
    "train_df.head()"
   ]
  },
  {
   "cell_type": "code",
   "execution_count": 230,
   "metadata": {},
   "outputs": [
    {
     "data": {
      "text/plain": [
       "((6601, 7), (19802, 14))"
      ]
     },
     "execution_count": 230,
     "metadata": {},
     "output_type": "execute_result"
    }
   ],
   "source": [
    "test_df.shape, train_df.shape"
   ]
  },
  {
   "cell_type": "code",
   "execution_count": 231,
   "metadata": {},
   "outputs": [
    {
     "data": {
      "text/plain": [
       "5     2912\n",
       "8     2250\n",
       "10    2202\n",
       "6     1978\n",
       "7     1745\n",
       "12    1293\n",
       "4     1148\n",
       "9     1090\n",
       "3     1060\n",
       "15     699\n",
       "2      609\n",
       "13     574\n",
       "11     508\n",
       "20     349\n",
       "14     320\n",
       "1      298\n",
       "18     223\n",
       "0      151\n",
       "16     124\n",
       "25      74\n",
       "17      71\n",
       "22      60\n",
       "19      15\n",
       "23      15\n",
       "24      12\n",
       "21      10\n",
       "30       7\n",
       "26       3\n",
       "28       2\n",
       "Name: max_exp, dtype: int64"
      ]
     },
     "execution_count": 231,
     "metadata": {},
     "output_type": "execute_result"
    }
   ],
   "source": [
    "train_df['max_exp'].value_counts()"
   ]
  },
  {
   "cell_type": "code",
   "execution_count": 232,
   "metadata": {},
   "outputs": [
    {
     "data": {
      "text/plain": [
       "2     3196\n",
       "3     2713\n",
       "5     2330\n",
       "1     2266\n",
       "4     1911\n",
       "0     1653\n",
       "8     1253\n",
       "10    1139\n",
       "7     1077\n",
       "6     1060\n",
       "12     362\n",
       "9      323\n",
       "15     205\n",
       "11     119\n",
       "13      90\n",
       "14      55\n",
       "18      21\n",
       "20      13\n",
       "17       6\n",
       "16       6\n",
       "19       3\n",
       "23       1\n",
       "Name: min_exp, dtype: int64"
      ]
     },
     "execution_count": 232,
     "metadata": {},
     "output_type": "execute_result"
    }
   ],
   "source": [
    "train_df['min_exp'].value_counts()"
   ]
  },
  {
   "cell_type": "code",
   "execution_count": 233,
   "metadata": {},
   "outputs": [
    {
     "name": "stdout",
     "output_type": "stream",
     "text": [
      "<class 'pandas.core.frame.DataFrame'>\n",
      "RangeIndex: 6601 entries, 0 to 6600\n",
      "Data columns (total 7 columns):\n",
      "experience              6601 non-null object\n",
      "job_description         5079 non-null object\n",
      "job_desig               6601 non-null object\n",
      "job_type                1637 non-null object\n",
      "key_skills              6601 non-null object\n",
      "location                6601 non-null object\n",
      "company_name_encoded    6601 non-null int64\n",
      "dtypes: int64(1), object(6)\n",
      "memory usage: 361.1+ KB\n"
     ]
    }
   ],
   "source": [
    "test_df.info()"
   ]
  },
  {
   "cell_type": "code",
   "execution_count": 234,
   "metadata": {},
   "outputs": [],
   "source": [
    "X_train = train_df.drop(columns=['Unnamed: 0','job_description','key_skills','experience','exp','avg_exp','max_exp'])\n",
    "X_train = X_train.fillna(value='')"
   ]
  },
  {
   "cell_type": "code",
   "execution_count": 235,
   "metadata": {},
   "outputs": [
    {
     "name": "stdout",
     "output_type": "stream",
     "text": [
      "<class 'pandas.core.frame.DataFrame'>\n",
      "RangeIndex: 19802 entries, 0 to 19801\n",
      "Data columns (total 7 columns):\n",
      "job_desig               19802 non-null object\n",
      "job_type                19802 non-null object\n",
      "location                19802 non-null object\n",
      "salary                  19802 non-null object\n",
      "company_name_encoded    19802 non-null int64\n",
      "min_exp                 19802 non-null int32\n",
      "skill1                  19802 non-null object\n",
      "dtypes: int32(1), int64(1), object(5)\n",
      "memory usage: 1005.6+ KB\n"
     ]
    }
   ],
   "source": [
    "X_train.info()"
   ]
  },
  {
   "cell_type": "code",
   "execution_count": 236,
   "metadata": {},
   "outputs": [],
   "source": [
    "labelenc = LabelEncoder()\n",
    "X_train = X_train.apply(labelenc.fit_transform)"
   ]
  },
  {
   "cell_type": "code",
   "execution_count": 237,
   "metadata": {},
   "outputs": [
    {
     "data": {
      "text/html": [
       "<div>\n",
       "<style scoped>\n",
       "    .dataframe tbody tr th:only-of-type {\n",
       "        vertical-align: middle;\n",
       "    }\n",
       "\n",
       "    .dataframe tbody tr th {\n",
       "        vertical-align: top;\n",
       "    }\n",
       "\n",
       "    .dataframe thead th {\n",
       "        text-align: right;\n",
       "    }\n",
       "</style>\n",
       "<table border=\"1\" class=\"dataframe\">\n",
       "  <thead>\n",
       "    <tr style=\"text-align: right;\">\n",
       "      <th></th>\n",
       "      <th>job_desig</th>\n",
       "      <th>job_type</th>\n",
       "      <th>location</th>\n",
       "      <th>salary</th>\n",
       "      <th>company_name_encoded</th>\n",
       "      <th>min_exp</th>\n",
       "      <th>skill1</th>\n",
       "    </tr>\n",
       "  </thead>\n",
       "  <tbody>\n",
       "    <tr>\n",
       "      <th>0</th>\n",
       "      <td>9104</td>\n",
       "      <td>0</td>\n",
       "      <td>597</td>\n",
       "      <td>5</td>\n",
       "      <td>3687</td>\n",
       "      <td>5</td>\n",
       "      <td>3929</td>\n",
       "    </tr>\n",
       "    <tr>\n",
       "      <th>1</th>\n",
       "      <td>4395</td>\n",
       "      <td>0</td>\n",
       "      <td>1412</td>\n",
       "      <td>1</td>\n",
       "      <td>458</td>\n",
       "      <td>10</td>\n",
       "      <td>3514</td>\n",
       "    </tr>\n",
       "    <tr>\n",
       "      <th>2</th>\n",
       "      <td>3058</td>\n",
       "      <td>3</td>\n",
       "      <td>525</td>\n",
       "      <td>2</td>\n",
       "      <td>4195</td>\n",
       "      <td>5</td>\n",
       "      <td>979</td>\n",
       "    </tr>\n",
       "    <tr>\n",
       "      <th>3</th>\n",
       "      <td>1087</td>\n",
       "      <td>3</td>\n",
       "      <td>114</td>\n",
       "      <td>1</td>\n",
       "      <td>313</td>\n",
       "      <td>7</td>\n",
       "      <td>2000</td>\n",
       "    </tr>\n",
       "    <tr>\n",
       "      <th>4</th>\n",
       "      <td>10385</td>\n",
       "      <td>0</td>\n",
       "      <td>811</td>\n",
       "      <td>4</td>\n",
       "      <td>1305</td>\n",
       "      <td>1</td>\n",
       "      <td>2473</td>\n",
       "    </tr>\n",
       "    <tr>\n",
       "      <th>5</th>\n",
       "      <td>9583</td>\n",
       "      <td>0</td>\n",
       "      <td>1229</td>\n",
       "      <td>5</td>\n",
       "      <td>4428</td>\n",
       "      <td>5</td>\n",
       "      <td>2469</td>\n",
       "    </tr>\n",
       "    <tr>\n",
       "      <th>6</th>\n",
       "      <td>1149</td>\n",
       "      <td>3</td>\n",
       "      <td>525</td>\n",
       "      <td>3</td>\n",
       "      <td>1988</td>\n",
       "      <td>13</td>\n",
       "      <td>889</td>\n",
       "    </tr>\n",
       "    <tr>\n",
       "      <th>7</th>\n",
       "      <td>6025</td>\n",
       "      <td>0</td>\n",
       "      <td>1301</td>\n",
       "      <td>5</td>\n",
       "      <td>1793</td>\n",
       "      <td>6</td>\n",
       "      <td>70</td>\n",
       "    </tr>\n",
       "    <tr>\n",
       "      <th>8</th>\n",
       "      <td>7236</td>\n",
       "      <td>0</td>\n",
       "      <td>11</td>\n",
       "      <td>0</td>\n",
       "      <td>3398</td>\n",
       "      <td>1</td>\n",
       "      <td>2984</td>\n",
       "    </tr>\n",
       "    <tr>\n",
       "      <th>9</th>\n",
       "      <td>8076</td>\n",
       "      <td>0</td>\n",
       "      <td>180</td>\n",
       "      <td>2</td>\n",
       "      <td>3444</td>\n",
       "      <td>2</td>\n",
       "      <td>2477</td>\n",
       "    </tr>\n",
       "  </tbody>\n",
       "</table>\n",
       "</div>"
      ],
      "text/plain": [
       "   job_desig  job_type  location  salary  company_name_encoded  min_exp  \\\n",
       "0       9104         0       597       5                  3687        5   \n",
       "1       4395         0      1412       1                   458       10   \n",
       "2       3058         3       525       2                  4195        5   \n",
       "3       1087         3       114       1                   313        7   \n",
       "4      10385         0       811       4                  1305        1   \n",
       "5       9583         0      1229       5                  4428        5   \n",
       "6       1149         3       525       3                  1988       13   \n",
       "7       6025         0      1301       5                  1793        6   \n",
       "8       7236         0        11       0                  3398        1   \n",
       "9       8076         0       180       2                  3444        2   \n",
       "\n",
       "   skill1  \n",
       "0    3929  \n",
       "1    3514  \n",
       "2     979  \n",
       "3    2000  \n",
       "4    2473  \n",
       "5    2469  \n",
       "6     889  \n",
       "7      70  \n",
       "8    2984  \n",
       "9    2477  "
      ]
     },
     "execution_count": 237,
     "metadata": {},
     "output_type": "execute_result"
    }
   ],
   "source": [
    "X_train[0:10]"
   ]
  },
  {
   "cell_type": "code",
   "execution_count": 238,
   "metadata": {},
   "outputs": [
    {
     "data": {
      "image/png": "[encoded data removed]",
      "text/plain": [
       "<Figure size 720x576 with 2 Axes>"
      ]
     },
     "metadata": {},
     "output_type": "display_data"
    }
   ],
   "source": [
    "plt.figure(figsize=(10, 8))\n",
    "sns.heatmap(X_train.corr(), cmap=\"PiYG\");"
   ]
  },
  {
   "cell_type": "code",
   "execution_count": 239,
   "metadata": {},
   "outputs": [],
   "source": [
    "y_train = X_train['salary']"
   ]
  },
  {
   "cell_type": "code",
   "execution_count": 240,
   "metadata": {},
   "outputs": [
    {
     "data": {
      "text/plain": [
       "0    5\n",
       "1    1\n",
       "2    2\n",
       "3    1\n",
       "4    4\n",
       "Name: salary, dtype: int64"
      ]
     },
     "execution_count": 240,
     "metadata": {},
     "output_type": "execute_result"
    }
   ],
   "source": [
    "y_train.head()"
   ]
  },
  {
   "cell_type": "code",
   "execution_count": 241,
   "metadata": {},
   "outputs": [],
   "source": [
    "X_train = X_train.drop(columns=['salary'])"
   ]
  },
  {
   "cell_type": "code",
   "execution_count": 242,
   "metadata": {},
   "outputs": [],
   "source": [
    "X_train_part, X_valid, y_train_part, y_valid = \\\n",
    "    train_test_split(X_train, y_train, \n",
    "                     test_size=0.3, random_state=17)"
   ]
  },
  {
   "cell_type": "code",
   "execution_count": 243,
   "metadata": {},
   "outputs": [
    {
     "data": {
      "text/plain": [
       "Index(['job_desig', 'job_type', 'location', 'company_name_encoded', 'min_exp',\n",
       "       'skill1'],\n",
       "      dtype='object')"
      ]
     },
     "execution_count": 243,
     "metadata": {},
     "output_type": "execute_result"
    }
   ],
   "source": [
    "X_train.columns"
   ]
  },
  {
   "cell_type": "code",
   "execution_count": 244,
   "metadata": {},
   "outputs": [
    {
     "data": {
      "text/plain": [
       "((13861, 6), (13861,), (5941, 6))"
      ]
     },
     "execution_count": 244,
     "metadata": {},
     "output_type": "execute_result"
    }
   ],
   "source": [
    "X_train_part.shape, y_train_part.shape, X_valid.shape"
   ]
  },
  {
   "cell_type": "code",
   "execution_count": 245,
   "metadata": {},
   "outputs": [
    {
     "data": {
      "text/plain": [
       "994      3\n",
       "5800     5\n",
       "807      2\n",
       "11167    1\n",
       "19673    0\n",
       "Name: salary, dtype: int64"
      ]
     },
     "execution_count": 245,
     "metadata": {},
     "output_type": "execute_result"
    }
   ],
   "source": [
    "y_train_part.head()"
   ]
  },
  {
   "cell_type": "code",
   "execution_count": 246,
   "metadata": {},
   "outputs": [
    {
     "data": {
      "text/plain": [
       "DecisionTreeClassifier(class_weight=None, criterion='gini', max_depth=None,\n",
       "            max_features=None, max_leaf_nodes=None,\n",
       "            min_impurity_decrease=0.0, min_impurity_split=None,\n",
       "            min_samples_leaf=1, min_samples_split=2,\n",
       "            min_weight_fraction_leaf=0.0, presort=False, random_state=17,\n",
       "            splitter='best')"
      ]
     },
     "execution_count": 246,
     "metadata": {},
     "output_type": "execute_result"
    }
   ],
   "source": [
    "dtree = DecisionTreeClassifier( random_state = 17)\n",
    "dtree.fit(X_train_part, y_train_part)"
   ]
  },
  {
   "cell_type": "code",
   "execution_count": 247,
   "metadata": {},
   "outputs": [
    {
     "name": "stdout",
     "output_type": "stream",
     "text": [
      "0.3258710654771924\n"
     ]
    }
   ],
   "source": [
    "y_pred = dtree.predict(X_valid)\n",
    "accu1 = accuracy_score(y_valid, y_pred)\n",
    "print(accu1)"
   ]
  },
  {
   "cell_type": "code",
   "execution_count": 248,
   "metadata": {},
   "outputs": [],
   "source": [
    "from sklearn.model_selection import GridSearchCV, StratifiedKFold\n",
    "from sklearn.model_selection import cross_val_score\n",
    "\n",
    "params = {'max_depth': np.arange(2, 11), 'max_features': np.arange(3, 7)}\n",
    "skf = StratifiedKFold(n_splits=5, shuffle=True, random_state=17)\n",
    "cv_dtree = GridSearchCV(estimator=dtree, param_grid=params, cv=skf, verbose=1)"
   ]
  },
  {
   "cell_type": "code",
   "execution_count": 249,
   "metadata": {},
   "outputs": [
    {
     "name": "stdout",
     "output_type": "stream",
     "text": [
      "Fitting 5 folds for each of 36 candidates, totalling 180 fits\n"
     ]
    },
    {
     "name": "stderr",
     "output_type": "stream",
     "text": [
      "[Parallel(n_jobs=1)]: Done 180 out of 180 | elapsed:    7.6s finished\n"
     ]
    },
    {
     "data": {
      "text/plain": [
       "GridSearchCV(cv=StratifiedKFold(n_splits=5, random_state=17, shuffle=True),\n",
       "       error_score='raise',\n",
       "       estimator=DecisionTreeClassifier(class_weight=None, criterion='gini', max_depth=None,\n",
       "            max_features=None, max_leaf_nodes=None,\n",
       "            min_impurity_decrease=0.0, min_impurity_split=None,\n",
       "            min_samples_leaf=1, min_samples_split=2,\n",
       "            min_weight_fraction_leaf=0.0, presort=False, random_state=17,\n",
       "            splitter='best'),\n",
       "       fit_params=None, iid=True, n_jobs=1,\n",
       "       param_grid={'max_depth': array([ 2,  3,  4,  5,  6,  7,  8,  9, 10]), 'max_features': array([3, 4, 5, 6])},\n",
       "       pre_dispatch='2*n_jobs', refit=True, return_train_score='warn',\n",
       "       scoring=None, verbose=1)"
      ]
     },
     "execution_count": 249,
     "metadata": {},
     "output_type": "execute_result"
    }
   ],
   "source": [
    "cv_dtree.fit(X_train_part, y_train_part)"
   ]
  },
  {
   "cell_type": "code",
   "execution_count": 250,
   "metadata": {},
   "outputs": [
    {
     "name": "stdout",
     "output_type": "stream",
     "text": [
      "Fitting 5 folds for each of 36 candidates, totalling 180 fits\n"
     ]
    },
    {
     "name": "stderr",
     "output_type": "stream",
     "text": [
      "[Parallel(n_jobs=1)]: Done 180 out of 180 | elapsed:    6.3s finished\n"
     ]
    },
    {
     "name": "stdout",
     "output_type": "stream",
     "text": [
      "Fitting 5 folds for each of 36 candidates, totalling 180 fits\n"
     ]
    },
    {
     "name": "stderr",
     "output_type": "stream",
     "text": [
      "[Parallel(n_jobs=1)]: Done 180 out of 180 | elapsed:    6.1s finished\n"
     ]
    },
    {
     "name": "stdout",
     "output_type": "stream",
     "text": [
      "Fitting 5 folds for each of 36 candidates, totalling 180 fits\n"
     ]
    },
    {
     "name": "stderr",
     "output_type": "stream",
     "text": [
      "[Parallel(n_jobs=1)]: Done 180 out of 180 | elapsed:    6.4s finished\n"
     ]
    },
    {
     "name": "stdout",
     "output_type": "stream",
     "text": [
      "Fitting 5 folds for each of 36 candidates, totalling 180 fits\n"
     ]
    },
    {
     "name": "stderr",
     "output_type": "stream",
     "text": [
      "[Parallel(n_jobs=1)]: Done 180 out of 180 | elapsed:    6.6s finished\n"
     ]
    },
    {
     "name": "stdout",
     "output_type": "stream",
     "text": [
      "Fitting 5 folds for each of 36 candidates, totalling 180 fits\n",
      "[0.42162162 0.39307609 0.3968254  0.41320823 0.41299639]\n",
      "0.4075455454583058\n"
     ]
    },
    {
     "name": "stderr",
     "output_type": "stream",
     "text": [
      "[Parallel(n_jobs=1)]: Done 180 out of 180 | elapsed:    6.5s finished\n"
     ]
    }
   ],
   "source": [
    "cv_score = cross_val_score(estimator=cv_dtree, X=X_train_part, y=y_train_part, cv=skf)\n",
    "print(cv_score)\n",
    "print(cv_score.mean())"
   ]
  },
  {
   "cell_type": "code",
   "execution_count": 251,
   "metadata": {},
   "outputs": [
    {
     "name": "stdout",
     "output_type": "stream",
     "text": [
      "Fitting 5 folds for each of 36 candidates, totalling 180 fits\n",
      "{'max_depth': 7, 'max_features': 6}\n",
      "DecisionTreeClassifier(class_weight=None, criterion='gini', max_depth=7,\n",
      "            max_features=6, max_leaf_nodes=None, min_impurity_decrease=0.0,\n",
      "            min_impurity_split=None, min_samples_leaf=1,\n",
      "            min_samples_split=2, min_weight_fraction_leaf=0.0,\n",
      "            presort=False, random_state=17, splitter='best')\n",
      "Best score by CV:  0.41662458337541664\n",
      "Validation Set Accuracy after hyperparam tuning (Depth=2 to 10): 43.36%\n"
     ]
    },
    {
     "name": "stderr",
     "output_type": "stream",
     "text": [
      "[Parallel(n_jobs=1)]: Done 180 out of 180 | elapsed:   10.4s finished\n"
     ]
    }
   ],
   "source": [
    "cv_dtree.fit(X_train, y_train)\n",
    "print( cv_dtree.best_params_ )\n",
    "print( cv_dtree.best_estimator_ )\n",
    "print( 'Best score by CV: ', cv_dtree.best_score_ )\n",
    "cv_y_pred = cv_dtree.predict(X_valid)\n",
    "accu2 = accuracy_score(y_valid, cv_y_pred)\n",
    "print(\"Validation Set Accuracy after hyperparam tuning (Depth=2 to 10): %.2f%%\" % (accu2 * 100.0))\n"
   ]
  },
  {
   "cell_type": "code",
   "execution_count": 252,
   "metadata": {},
   "outputs": [
    {
     "data": {
      "text/plain": [
       "array([1, 1, 2, ..., 2, 0, 2], dtype=int64)"
      ]
     },
     "execution_count": 252,
     "metadata": {},
     "output_type": "execute_result"
    }
   ],
   "source": [
    "cv_y_pred"
   ]
  },
  {
   "cell_type": "code",
   "execution_count": 253,
   "metadata": {},
   "outputs": [
    {
     "data": {
      "text/plain": [
       "DecisionTreeClassifier(class_weight=None, criterion='gini', max_depth=7,\n",
       "            max_features=6, max_leaf_nodes=None, min_impurity_decrease=0.0,\n",
       "            min_impurity_split=None, min_samples_leaf=1,\n",
       "            min_samples_split=2, min_weight_fraction_leaf=0.0,\n",
       "            presort=False, random_state=17, splitter='best')"
      ]
     },
     "execution_count": 253,
     "metadata": {},
     "output_type": "execute_result"
    }
   ],
   "source": [
    "cv_dtree.best_estimator_"
   ]
  },
  {
   "cell_type": "code",
   "execution_count": 254,
   "metadata": {},
   "outputs": [],
   "source": [
    "test_df['exp'] = test_df['experience'].str.rstrip('yrs')\n",
    "test_df['min_exp'] = test_df['exp'].str.split('-').str[0].astype(int)\n",
    "#test_df['max_exp'] = test_df['exp'].str.split('-').str[1].astype(int)\n",
    "#test_df['avg_exp'] = test_df['min_exp'] + test_df['max_exp']/2"
   ]
  },
  {
   "cell_type": "code",
   "execution_count": 255,
   "metadata": {},
   "outputs": [],
   "source": [
    "test_df['skill1'] = test_df['key_skills'].str.split(',').str[0]\n",
    "#test_df['skill2'] = test_df['key_skills'].str.split(',').str[1]\n",
    "#test_df['skill3'] = test_df['key_skills'].str.split(',').str[2]\n",
    "#test_df['skill4'] = test_df['key_skills'].str.split(',').str[3]\n",
    "#test_df['skill5'] = test_df['key_skills'].str.split(',').str[4]"
   ]
  },
  {
   "cell_type": "code",
   "execution_count": 256,
   "metadata": {},
   "outputs": [
    {
     "data": {
      "text/html": [
       "<div>\n",
       "<style scoped>\n",
       "    .dataframe tbody tr th:only-of-type {\n",
       "        vertical-align: middle;\n",
       "    }\n",
       "\n",
       "    .dataframe tbody tr th {\n",
       "        vertical-align: top;\n",
       "    }\n",
       "\n",
       "    .dataframe thead th {\n",
       "        text-align: right;\n",
       "    }\n",
       "</style>\n",
       "<table border=\"1\" class=\"dataframe\">\n",
       "  <thead>\n",
       "    <tr style=\"text-align: right;\">\n",
       "      <th></th>\n",
       "      <th>experience</th>\n",
       "      <th>job_description</th>\n",
       "      <th>job_desig</th>\n",
       "      <th>job_type</th>\n",
       "      <th>key_skills</th>\n",
       "      <th>location</th>\n",
       "      <th>company_name_encoded</th>\n",
       "      <th>exp</th>\n",
       "      <th>min_exp</th>\n",
       "      <th>skill1</th>\n",
       "    </tr>\n",
       "  </thead>\n",
       "  <tbody>\n",
       "    <tr>\n",
       "      <th>0</th>\n",
       "      <td>7-12 yrs</td>\n",
       "      <td>Professional experience in Java/J2EE based ser...</td>\n",
       "      <td>IT Technology Senior Consultant/java/ J2ee/ Se...</td>\n",
       "      <td>NaN</td>\n",
       "      <td>Java, J2Ee, Tomcat, JBoss, Weblogic, Oracle, E...</td>\n",
       "      <td>Bengaluru</td>\n",
       "      <td>2066</td>\n",
       "      <td>7-12</td>\n",
       "      <td>7</td>\n",
       "      <td>Java</td>\n",
       "    </tr>\n",
       "    <tr>\n",
       "      <th>1</th>\n",
       "      <td>0-5 yrs</td>\n",
       "      <td>We are looking for 20+ Fresher/Experienced Can...</td>\n",
       "      <td>Medical Billing Process | International KPO | ...</td>\n",
       "      <td>NaN</td>\n",
       "      <td>Medical Billing, Insurance Processing</td>\n",
       "      <td>Ahmedabad(Sola)</td>\n",
       "      <td>2629</td>\n",
       "      <td>0-5</td>\n",
       "      <td>0</td>\n",
       "      <td>Medical Billing</td>\n",
       "    </tr>\n",
       "    <tr>\n",
       "      <th>2</th>\n",
       "      <td>3-6 yrs</td>\n",
       "      <td>Should understand overall integration framewor...</td>\n",
       "      <td>Oracle Sales Cloud Functional Consultant</td>\n",
       "      <td>NaN</td>\n",
       "      <td>Oracle Sales, Functional Consultancy, Troubles...</td>\n",
       "      <td>Bengaluru</td>\n",
       "      <td>2448</td>\n",
       "      <td>3-6</td>\n",
       "      <td>3</td>\n",
       "      <td>Oracle Sales</td>\n",
       "    </tr>\n",
       "    <tr>\n",
       "      <th>3</th>\n",
       "      <td>0-3 yrs</td>\n",
       "      <td>NaN</td>\n",
       "      <td>Looking For Freshers WHO WANT To Work WITH US</td>\n",
       "      <td>NaN</td>\n",
       "      <td>offline, online, internet, part time, home bas...</td>\n",
       "      <td>Delhi NCR, Chennai, Hyderabad, Gurgaon, Luckno...</td>\n",
       "      <td>2711</td>\n",
       "      <td>0-3</td>\n",
       "      <td>0</td>\n",
       "      <td>offline</td>\n",
       "    </tr>\n",
       "    <tr>\n",
       "      <th>4</th>\n",
       "      <td>0-5 yrs</td>\n",
       "      <td>NaN</td>\n",
       "      <td>Process Associate / Sr Process Associate / Tec...</td>\n",
       "      <td>NaN</td>\n",
       "      <td>voice support, analytical skills, Process asso...</td>\n",
       "      <td>Hyderabad</td>\n",
       "      <td>40</td>\n",
       "      <td>0-5</td>\n",
       "      <td>0</td>\n",
       "      <td>voice support</td>\n",
       "    </tr>\n",
       "  </tbody>\n",
       "</table>\n",
       "</div>"
      ],
      "text/plain": [
       "  experience                                    job_description  \\\n",
       "0   7-12 yrs  Professional experience in Java/J2EE based ser...   \n",
       "1    0-5 yrs  We are looking for 20+ Fresher/Experienced Can...   \n",
       "2    3-6 yrs  Should understand overall integration framewor...   \n",
       "3    0-3 yrs                                                NaN   \n",
       "4    0-5 yrs                                                NaN   \n",
       "\n",
       "                                           job_desig job_type  \\\n",
       "0  IT Technology Senior Consultant/java/ J2ee/ Se...      NaN   \n",
       "1  Medical Billing Process | International KPO | ...      NaN   \n",
       "2           Oracle Sales Cloud Functional Consultant      NaN   \n",
       "3      Looking For Freshers WHO WANT To Work WITH US      NaN   \n",
       "4  Process Associate / Sr Process Associate / Tec...      NaN   \n",
       "\n",
       "                                          key_skills  \\\n",
       "0  Java, J2Ee, Tomcat, JBoss, Weblogic, Oracle, E...   \n",
       "1              Medical Billing, Insurance Processing   \n",
       "2  Oracle Sales, Functional Consultancy, Troubles...   \n",
       "3  offline, online, internet, part time, home bas...   \n",
       "4  voice support, analytical skills, Process asso...   \n",
       "\n",
       "                                            location  company_name_encoded  \\\n",
       "0                                          Bengaluru                  2066   \n",
       "1                                    Ahmedabad(Sola)                  2629   \n",
       "2                                          Bengaluru                  2448   \n",
       "3  Delhi NCR, Chennai, Hyderabad, Gurgaon, Luckno...                  2711   \n",
       "4                                          Hyderabad                    40   \n",
       "\n",
       "     exp  min_exp           skill1  \n",
       "0  7-12         7             Java  \n",
       "1   0-5         0  Medical Billing  \n",
       "2   3-6         3     Oracle Sales  \n",
       "3   0-3         0          offline  \n",
       "4   0-5         0    voice support  "
      ]
     },
     "execution_count": 256,
     "metadata": {},
     "output_type": "execute_result"
    }
   ],
   "source": [
    "test_df.head()"
   ]
  },
  {
   "cell_type": "code",
   "execution_count": 257,
   "metadata": {},
   "outputs": [
    {
     "name": "stdout",
     "output_type": "stream",
     "text": [
      "<class 'pandas.core.frame.DataFrame'>\n",
      "RangeIndex: 6601 entries, 0 to 6600\n",
      "Data columns (total 10 columns):\n",
      "experience              6601 non-null object\n",
      "job_description         5079 non-null object\n",
      "job_desig               6601 non-null object\n",
      "job_type                1637 non-null object\n",
      "key_skills              6601 non-null object\n",
      "location                6601 non-null object\n",
      "company_name_encoded    6601 non-null int64\n",
      "exp                     6601 non-null object\n",
      "min_exp                 6601 non-null int32\n",
      "skill1                  6601 non-null object\n",
      "dtypes: int32(1), int64(1), object(8)\n",
      "memory usage: 490.0+ KB\n"
     ]
    }
   ],
   "source": [
    "test_df.info()"
   ]
  },
  {
   "cell_type": "code",
   "execution_count": 258,
   "metadata": {},
   "outputs": [],
   "source": [
    "X_test = test_df.drop(columns = ['job_description','key_skills','experience','exp'])\n",
    "X_test = X_test.fillna(value='')"
   ]
  },
  {
   "cell_type": "code",
   "execution_count": 259,
   "metadata": {},
   "outputs": [
    {
     "name": "stdout",
     "output_type": "stream",
     "text": [
      "<class 'pandas.core.frame.DataFrame'>\n",
      "RangeIndex: 6601 entries, 0 to 6600\n",
      "Data columns (total 6 columns):\n",
      "job_desig               6601 non-null object\n",
      "job_type                6601 non-null object\n",
      "location                6601 non-null object\n",
      "company_name_encoded    6601 non-null int64\n",
      "min_exp                 6601 non-null int32\n",
      "skill1                  6601 non-null object\n",
      "dtypes: int32(1), int64(1), object(4)\n",
      "memory usage: 283.7+ KB\n"
     ]
    }
   ],
   "source": [
    "X_test.info()"
   ]
  },
  {
   "cell_type": "code",
   "execution_count": 260,
   "metadata": {},
   "outputs": [],
   "source": [
    "X_test = X_test.apply(labelenc.fit_transform)"
   ]
  },
  {
   "cell_type": "code",
   "execution_count": 261,
   "metadata": {},
   "outputs": [],
   "source": [
    "y_pred = cv_dtree.predict(X_test)"
   ]
  },
  {
   "cell_type": "code",
   "execution_count": 262,
   "metadata": {},
   "outputs": [
    {
     "data": {
      "text/plain": [
       "(6601,)"
      ]
     },
     "execution_count": 262,
     "metadata": {},
     "output_type": "execute_result"
    }
   ],
   "source": [
    "y_pred.shape"
   ]
  },
  {
   "cell_type": "code",
   "execution_count": 263,
   "metadata": {},
   "outputs": [
    {
     "data": {
      "text/plain": [
       "array([2, 0, 1, 0, 0], dtype=int64)"
      ]
     },
     "execution_count": 263,
     "metadata": {},
     "output_type": "execute_result"
    }
   ],
   "source": [
    "y_pred[0:5]"
   ]
  },
  {
   "cell_type": "code",
   "execution_count": 264,
   "metadata": {},
   "outputs": [],
   "source": [
    "#convert the predictions into file format as required for submission\n",
    "def predictionstofile( y_pred, filename ):\n",
    "    #convert series to dataframe\n",
    "    df = pd.DataFrame(y_pred)\n",
    "    df.columns = ['sal']\n",
    "    \n",
    "    #not the best way, but mapping it back to string so as to be able to make a submission\n",
    "    df['sal'] = df['sal'].astype(str)\n",
    "    vals_to_replace = {'0':'0to3', '1':'10to15', '2':'15to25', '3':'25to50', '4':'3to6', '5':'6to10'}\n",
    "    df['salary'] = df['sal'].map(vals_to_replace)\n",
    "    \n",
    "    df = df.drop(columns=['sal'])\n",
    "    df.to_csv(filename)\n",
    "    return"
   ]
  },
  {
   "cell_type": "code",
   "execution_count": 265,
   "metadata": {},
   "outputs": [],
   "source": [
    "predictionstofile(y_pred, 'sub10dt.csv')"
   ]
  },
  {
   "cell_type": "code",
   "execution_count": 266,
   "metadata": {},
   "outputs": [],
   "source": [
    "X_train_part, X_valid, y_train_part, y_valid = \\\n",
    "    train_test_split(X_train, y_train, test_size=0.3, random_state=17)"
   ]
  },
  {
   "cell_type": "code",
   "execution_count": 267,
   "metadata": {},
   "outputs": [
    {
     "data": {
      "text/html": [
       "<div>\n",
       "<style scoped>\n",
       "    .dataframe tbody tr th:only-of-type {\n",
       "        vertical-align: middle;\n",
       "    }\n",
       "\n",
       "    .dataframe tbody tr th {\n",
       "        vertical-align: top;\n",
       "    }\n",
       "\n",
       "    .dataframe thead th {\n",
       "        text-align: right;\n",
       "    }\n",
       "</style>\n",
       "<table border=\"1\" class=\"dataframe\">\n",
       "  <thead>\n",
       "    <tr style=\"text-align: right;\">\n",
       "      <th></th>\n",
       "      <th>job_desig</th>\n",
       "      <th>job_type</th>\n",
       "      <th>location</th>\n",
       "      <th>company_name_encoded</th>\n",
       "      <th>min_exp</th>\n",
       "      <th>skill1</th>\n",
       "    </tr>\n",
       "  </thead>\n",
       "  <tbody>\n",
       "    <tr>\n",
       "      <th>994</th>\n",
       "      <td>7943</td>\n",
       "      <td>3</td>\n",
       "      <td>525</td>\n",
       "      <td>1353</td>\n",
       "      <td>3</td>\n",
       "      <td>644</td>\n",
       "    </tr>\n",
       "    <tr>\n",
       "      <th>5800</th>\n",
       "      <td>10988</td>\n",
       "      <td>0</td>\n",
       "      <td>1027</td>\n",
       "      <td>2491</td>\n",
       "      <td>7</td>\n",
       "      <td>3128</td>\n",
       "    </tr>\n",
       "    <tr>\n",
       "      <th>807</th>\n",
       "      <td>5611</td>\n",
       "      <td>0</td>\n",
       "      <td>114</td>\n",
       "      <td>5032</td>\n",
       "      <td>8</td>\n",
       "      <td>1174</td>\n",
       "    </tr>\n",
       "    <tr>\n",
       "      <th>11167</th>\n",
       "      <td>6238</td>\n",
       "      <td>0</td>\n",
       "      <td>811</td>\n",
       "      <td>2550</td>\n",
       "      <td>6</td>\n",
       "      <td>588</td>\n",
       "    </tr>\n",
       "    <tr>\n",
       "      <th>19673</th>\n",
       "      <td>5153</td>\n",
       "      <td>0</td>\n",
       "      <td>811</td>\n",
       "      <td>3055</td>\n",
       "      <td>0</td>\n",
       "      <td>2778</td>\n",
       "    </tr>\n",
       "  </tbody>\n",
       "</table>\n",
       "</div>"
      ],
      "text/plain": [
       "       job_desig  job_type  location  company_name_encoded  min_exp  skill1\n",
       "994         7943         3       525                  1353        3     644\n",
       "5800       10988         0      1027                  2491        7    3128\n",
       "807         5611         0       114                  5032        8    1174\n",
       "11167       6238         0       811                  2550        6     588\n",
       "19673       5153         0       811                  3055        0    2778"
      ]
     },
     "execution_count": 267,
     "metadata": {},
     "output_type": "execute_result"
    }
   ],
   "source": [
    "X_train_part.head()"
   ]
  },
  {
   "cell_type": "code",
   "execution_count": 268,
   "metadata": {},
   "outputs": [],
   "source": [
    "from sklearn.pipeline import Pipeline\n",
    "from sklearn.preprocessing import StandardScaler\n",
    "from sklearn.linear_model import LogisticRegression\n",
    "\n",
    "scaler = StandardScaler()\n",
    "logit = LogisticRegression(random_state=17, class_weight='balanced', max_iter=500)\n",
    "\n",
    "logit_pipe = Pipeline([('scaler', scaler), ('logit', logit)])\n",
    "logit_pipe_params = {'logit__C': np.logspace(-8, 8, 17)}"
   ]
  },
  {
   "cell_type": "code",
   "execution_count": 269,
   "metadata": {
    "scrolled": false
   },
   "outputs": [
    {
     "name": "stdout",
     "output_type": "stream",
     "text": [
      "Fitting 5 folds for each of 17 candidates, totalling 85 fits\n"
     ]
    },
    {
     "name": "stderr",
     "output_type": "stream",
     "text": [
      "[Parallel(n_jobs=1)]: Done  85 out of  85 | elapsed:    5.0s finished\n"
     ]
    },
    {
     "name": "stdout",
     "output_type": "stream",
     "text": [
      "Fitting 5 folds for each of 17 candidates, totalling 85 fits\n"
     ]
    },
    {
     "name": "stderr",
     "output_type": "stream",
     "text": [
      "[Parallel(n_jobs=1)]: Done  85 out of  85 | elapsed:    5.1s finished\n"
     ]
    },
    {
     "name": "stdout",
     "output_type": "stream",
     "text": [
      "Fitting 5 folds for each of 17 candidates, totalling 85 fits\n"
     ]
    },
    {
     "name": "stderr",
     "output_type": "stream",
     "text": [
      "[Parallel(n_jobs=1)]: Done  85 out of  85 | elapsed:    5.2s finished\n"
     ]
    },
    {
     "name": "stdout",
     "output_type": "stream",
     "text": [
      "Fitting 5 folds for each of 17 candidates, totalling 85 fits\n"
     ]
    },
    {
     "name": "stderr",
     "output_type": "stream",
     "text": [
      "[Parallel(n_jobs=1)]: Done  85 out of  85 | elapsed:    5.2s finished\n"
     ]
    },
    {
     "name": "stdout",
     "output_type": "stream",
     "text": [
      "Fitting 5 folds for each of 17 candidates, totalling 85 fits\n"
     ]
    },
    {
     "name": "stderr",
     "output_type": "stream",
     "text": [
      "[Parallel(n_jobs=1)]: Done  85 out of  85 | elapsed:    5.2s finished\n"
     ]
    },
    {
     "name": "stdout",
     "output_type": "stream",
     "text": [
      "[0.40828829 0.38189686 0.37914863 0.38505955 0.37689531]\n",
      "0.4082882882882883 0.38625772643806205\n",
      "Fitting 5 folds for each of 17 candidates, totalling 85 fits\n"
     ]
    },
    {
     "name": "stderr",
     "output_type": "stream",
     "text": [
      "[Parallel(n_jobs=1)]: Done  85 out of  85 | elapsed:    8.9s finished\n"
     ]
    },
    {
     "data": {
      "text/plain": [
       "(Pipeline(memory=None,\n",
       "      steps=[('scaler', StandardScaler(copy=True, with_mean=True, with_std=True)), ('logit', LogisticRegression(C=100.0, class_weight='balanced', dual=False,\n",
       "           fit_intercept=True, intercept_scaling=1, max_iter=500,\n",
       "           multi_class='ovr', n_jobs=1, penalty='l2', random_state=17,\n",
       "           solver='liblinear', tol=0.0001, verbose=0, warm_start=False))]),\n",
       " {'logit__C': 100.0},\n",
       " 0.38677911322088676)"
      ]
     },
     "execution_count": 269,
     "metadata": {},
     "output_type": "execute_result"
    }
   ],
   "source": [
    "pipeline_cv = GridSearchCV(estimator=logit_pipe, param_grid=logit_pipe_params, cv=skf, verbose=1)\n",
    "cv_score = cross_val_score(estimator=pipeline_cv, X= X_train_part, y=y_train_part, cv=skf)\n",
    "print(cv_score)\n",
    "print(cv_score.max(), cv_score.mean())\n",
    "\n",
    "pipeline_cv.fit(X_train, y_train)\n",
    "pipeline_cv.score\n",
    "pipeline_cv.best_estimator_, pipeline_cv.best_params_, pipeline_cv.best_score_"
   ]
  },
  {
   "cell_type": "code",
   "execution_count": 270,
   "metadata": {},
   "outputs": [],
   "source": [
    "y_pred_pp = pipeline_cv.predict(X_test)\n",
    "predictionstofile( y_pred_pp, 'sub10lr.csv')"
   ]
  },
  {
   "cell_type": "code",
   "execution_count": 271,
   "metadata": {},
   "outputs": [
    {
     "data": {
      "text/plain": [
       "array([5, 5, 1, 0, 4, 4, 1, 0, 3, 3], dtype=int64)"
      ]
     },
     "execution_count": 271,
     "metadata": {},
     "output_type": "execute_result"
    }
   ],
   "source": [
    "y_pred_pp[100:110]"
   ]
  },
  {
   "cell_type": "code",
   "execution_count": 272,
   "metadata": {},
   "outputs": [
    {
     "name": "stdout",
     "output_type": "stream",
     "text": [
      "0.17539134825786903\n"
     ]
    }
   ],
   "source": [
    "from sklearn.naive_bayes import MultinomialNB, GaussianNB\n",
    "\n",
    "mnb = MultinomialNB()\n",
    "mnb.fit(X_train_part, y_train_part)\n",
    "\n",
    "mnb_y_pred = mnb.predict(X_valid)\n",
    "accu2 = accuracy_score(y_valid, mnb_y_pred)\n",
    "print(accu2)\n",
    "\n",
    "#mnb_pipe = Pipeline([('scaler', scaler), ('mnb', mnb)])\n",
    "mnb_params = {'alpha': np.arange(0.1, 2, 0.1) }"
   ]
  },
  {
   "cell_type": "code",
   "execution_count": 273,
   "metadata": {},
   "outputs": [
    {
     "name": "stdout",
     "output_type": "stream",
     "text": [
      "0.373506143746844\n"
     ]
    }
   ],
   "source": [
    "gnb = GaussianNB()\n",
    "gnb.fit(X_train_part, y_train_part)\n",
    "\n",
    "gnb_y_pred = gnb.predict(X_valid)\n",
    "accu2 = accuracy_score(y_valid, gnb_y_pred)\n",
    "print(accu2)"
   ]
  },
  {
   "cell_type": "code",
   "execution_count": 274,
   "metadata": {
    "scrolled": true
   },
   "outputs": [
    {
     "name": "stdout",
     "output_type": "stream",
     "text": [
      "Fitting 5 folds for each of 1 candidates, totalling 5 fits\n",
      "Fitting 5 folds for each of 1 candidates, totalling 5 fits\n",
      "Fitting 5 folds for each of 1 candidates, totalling 5 fits\n"
     ]
    },
    {
     "name": "stderr",
     "output_type": "stream",
     "text": [
      "[Parallel(n_jobs=1)]: Done   5 out of   5 | elapsed:    0.0s finished\n",
      "[Parallel(n_jobs=1)]: Done   5 out of   5 | elapsed:    0.0s finished\n",
      "[Parallel(n_jobs=1)]: Done   5 out of   5 | elapsed:    0.0s finished\n"
     ]
    },
    {
     "name": "stdout",
     "output_type": "stream",
     "text": [
      "Fitting 5 folds for each of 1 candidates, totalling 5 fits\n",
      "Fitting 5 folds for each of 1 candidates, totalling 5 fits\n",
      "[0.39783784 0.38838803 0.37554113 0.38361602 0.37184116]\n",
      "0.3978378378378378 0.3834448338234232\n",
      "Fitting 5 folds for each of 1 candidates, totalling 5 fits\n"
     ]
    },
    {
     "name": "stderr",
     "output_type": "stream",
     "text": [
      "[Parallel(n_jobs=1)]: Done   5 out of   5 | elapsed:    0.0s finished\n",
      "[Parallel(n_jobs=1)]: Done   5 out of   5 | elapsed:    0.0s finished\n",
      "[Parallel(n_jobs=1)]: Done   5 out of   5 | elapsed:    0.0s finished\n"
     ]
    },
    {
     "data": {
      "text/plain": [
       "(GaussianNB(priors=None), {}, 0.3840521159478841)"
      ]
     },
     "execution_count": 274,
     "metadata": {},
     "output_type": "execute_result"
    }
   ],
   "source": [
    "mnb_cv = GridSearchCV(estimator=gnb,param_grid={}, cv=skf, verbose=1)\n",
    "#mnb_cv = GridSearchCV(estimator=gnb, param_grid=mnb_params, cv=skf, verbose=1)\n",
    "cv_score = cross_val_score(estimator=mnb_cv, X=X_train_part, y=y_train_part, cv=skf)\n",
    "print(cv_score)\n",
    "print(cv_score.max(), cv_score.mean())\n",
    "\n",
    "mnb_cv.fit(X_train, y_train)\n",
    "mnb_cv.score\n",
    "mnb_cv.best_estimator_, mnb_cv.best_params_, mnb_cv.best_score_"
   ]
  },
  {
   "cell_type": "code",
   "execution_count": 275,
   "metadata": {},
   "outputs": [
    {
     "data": {
      "text/plain": [
       "array([5, 5, 2, ..., 1, 0, 3], dtype=int64)"
      ]
     },
     "execution_count": 275,
     "metadata": {},
     "output_type": "execute_result"
    }
   ],
   "source": [
    "gnb_y_pred"
   ]
  },
  {
   "cell_type": "code",
   "execution_count": 276,
   "metadata": {},
   "outputs": [],
   "source": [
    "gnb_pred_pp = mnb_cv.predict(X_test)\n",
    "predictionstofile( y_pred_pp, 'gnb10.csv')"
   ]
  },
  {
   "cell_type": "markdown",
   "metadata": {},
   "source": [
    "## Results until now\n",
    " \n",
    "23/1 - Decision tree has given results only for an accuracy of 0.40 - on submission, gave only 0.248 score on the leaderboard.\n",
    "Let us try other options.\n",
    " \n",
    "24/1 - Added another feature back - job type. Accuracy of 0.414 gave score of 0.276\n",
    " \n",
    "25/1 - Split up experience as min and max experience. Accuracy of 0.4256640743359257. Score = 0.374034237\n",
    "\n",
    " ### Iter 4 - Pipeline (scaler+log regression) giving 0.3885971114028886 accuracy and a submission score of 0.389183457\n",
    "\n",
    "Iter 5 - 5 skills and decision tree, CV score = 0.41834158165841834; submission score = 0.385093168 \n",
    "\n",
    "Iter 6 - 5 skills and LR, CV score = 0.3907686092313908; submission score = 0.386305105\n",
    "\n",
    "Iter 7 - 3skills decision tree, cv score = 0.417988082011918, submission score = 0.372519315\n",
    " \n",
    "    7a -     dropping max_exp, cv score = 0.40985759014240986, submission score = 0.378579003\n",
    "\n",
    "Iter 8 - 3skills log regression, cv score = 0.3882436117563882, submission score = 0.384790183\n",
    " \n",
    "    8a -     dropping max_exp, cv score = 0.3852136147863852, submission score = 0.380548402\n",
    "    8b -     only 1 skill, cv score = 0.38677911322088676, submission score = 0.\n",
    "\n",
    "9 - \n",
    "dtree 0.42283607716392285, 0.378124527\n",
    " \n",
    "LR 0.3908191091808908, 0.386305105\n",
    "\n",
    "Random Forest\n",
    "\n",
    " cv = 0.4113725886274114, 0.378730495\n",
    " \n",
    " cv = 0.41455408544591454, 0.386608090 (n_estimators = 500)\n",
    " \n",
    " Gaussian NB: cv = 0.38794061205938796, score = 0.386305105\n",
    " \n",
    " 10th Model:\n",
    " \n",
    " LR - cv = 0.38677911322088676, score = 0.380548402\n",
    " \n",
    " DT - cv = 0.41662458337541664, score = 0.369640963\n",
    "\n",
    " Gaussian NB - cv = 0.3840521159478841, score = 0.380548402\n"
   ]
  },
  {
   "cell_type": "code",
   "execution_count": null,
   "metadata": {},
   "outputs": [],
   "source": []
  },
  {
   "cell_type": "code",
   "execution_count": null,
   "metadata": {},
   "outputs": [],
   "source": []
  },
  {
   "cell_type": "markdown",
   "metadata": {},
   "source": [
    "# Time Consuming, we do not want to run it. Marking it down"
   ]
  },
  {
   "cell_type": "markdown",
   "metadata": {},
   "source": [
    "# Random Forest"
   ]
  },
  {
   "cell_type": "markdown",
   "metadata": {},
   "source": [
    "from sklearn.ensemble import RandomForestClassifier"
   ]
  },
  {
   "cell_type": "markdown",
   "metadata": {},
   "source": [
    "rf = RandomForestClassifier(class_weight='balanced', random_state=17, n_estimators=500)\n",
    "rf.fit(X_train_part, y_train_part)\n",
    "\n",
    "y_pred = rf.predict(X_valid)\n",
    "accu1 = accuracy_score(y_valid, y_pred)\n",
    "print(accu1)\n",
    "\n",
    "## .3543 with default\n",
    "## 0.3728 with n_estimators=500"
   ]
  },
  {
   "cell_type": "markdown",
   "metadata": {},
   "source": [
    "cv_rftree = GridSearchCV(estimator=rf, param_grid=params, cv=skf, verbose=1, n_jobs=4)"
   ]
  },
  {
   "cell_type": "markdown",
   "metadata": {},
   "source": [
    "cv_rftree.fit(X_train_part, y_train_part)\n",
    "cv_score = cross_val_score(estimator=cv_rftree, X=X_train_part, y=y_train_part, cv=skf)\n",
    "print(cv_score)\n",
    "print(cv_score.mean())"
   ]
  },
  {
   "cell_type": "markdown",
   "metadata": {},
   "source": [
    "cv_rftree.fit(X_train, y_train)\n",
    "print( cv_rftree.best_params_ )\n",
    "print( cv_rftree.best_estimator_ )\n",
    "print( 'Best score by CV: ', cv_rftree.best_score_ )\n",
    "cv_y_pred = cv_rftree.predict(X_valid)\n",
    "accu2 = accuracy_score(y_valid, cv_y_pred)\n",
    "print(\"Random Forest: Validation Set Accuracy after hyperparam tuning (Depth=2 to 10): %.2f%%\" % (accu2 * 100.0))\n"
   ]
  },
  {
   "cell_type": "markdown",
   "metadata": {},
   "source": [
    "y_pred_rf = cv_rftree.predict(X_test)\n",
    "predictionstofile( y_pred_rf, 'rf_sub2.csv')"
   ]
  },
  {
   "cell_type": "code",
   "execution_count": null,
   "metadata": {},
   "outputs": [],
   "source": []
  },
  {
   "cell_type": "code",
   "execution_count": null,
   "metadata": {},
   "outputs": [],
   "source": []
  },
  {
   "cell_type": "code",
   "execution_count": null,
   "metadata": {},
   "outputs": [],
   "source": []
  },
  {
   "cell_type": "code",
   "execution_count": null,
   "metadata": {},
   "outputs": [],
   "source": []
  }
 ],
 "metadata": {
  "kernelspec": {
   "display_name": "Python 3",
   "language": "python",
   "name": "python3"
  },
  "language_info": {
   "codemirror_mode": {
    "name": "ipython",
    "version": 3
   },
   "file_extension": ".py",
   "mimetype": "text/x-python",
   "name": "python",
   "nbconvert_exporter": "python",
   "pygments_lexer": "ipython3",
   "version": "3.7.0"
  }
 },
 "nbformat": 4,
 "nbformat_minor": 2
}
